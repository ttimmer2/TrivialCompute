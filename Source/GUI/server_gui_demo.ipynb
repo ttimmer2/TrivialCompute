{
 "cells": [
  {
   "cell_type": "code",
   "execution_count": null,
   "metadata": {},
   "outputs": [],
   "source": [
    "from __future__ import print_function\n",
    "from concurrent import futures\n",
    "\n",
    "\n",
    "import sys\n",
    "sys.path.append(\"..\")\n",
    "sys.path.append(\"../protos/\")\n",
    "\n",
    "import logging\n",
    "import random\n",
    "\n",
    "import grpc\n",
    "from protos import server_gui_pb2\n",
    "from protos import server_gui_pb2_grpc"
   ]
  },
  {
   "cell_type": "code",
   "execution_count": null,
   "metadata": {},
   "outputs": [],
   "source": [
    "port = 50053\n",
    "with grpc.insecure_channel(f'localhost:{port}') as channel:\n",
    "    stub = server_gui_pb2_grpc.ServerGUIStub(channel)\n",
    "    response = stub.RollDiceAndGetValidLandingSpots(server_gui_pb2.RollDiceMessage(Player=1, Location=11))\n",
    "print(f\"message: \" + response.ValidSpot)"
   ]
  },
  {
   "cell_type": "code",
   "execution_count": null,
   "metadata": {},
   "outputs": [],
   "source": [
    "port = 50053\n",
    "with grpc.insecure_channel(f'localhost:{port}') as channel:\n",
    "    stub = server_gui_pb2_grpc.ServerGUIStub(channel)\n",
    "    response = stub.HandleNewSpot(server_gui_pb2.NewSpotMessage(Player=1,Spot=12))\n",
    "print(f\"Player {response.Player} - response type {response.RT}\")"
   ]
  },
  {
   "cell_type": "code",
   "execution_count": null,
   "metadata": {},
   "outputs": [],
   "source": [
    "port = 50053\n",
    "with grpc.insecure_channel(f'localhost:{port}') as channel:\n",
    "    stub = server_gui_pb2_grpc.ServerGUIStub(channel)\n",
    "    response = stub.GetQuestion(server_gui_pb2.RequestQuestion(Player=3))\n",
    "print(f\"Question: {response.QuestionGS} from category: {response.CategoryType}\")"
   ]
  },
  {
   "cell_type": "code",
   "execution_count": 20,
   "metadata": {},
   "outputs": [
    {
     "ename": "_InactiveRpcError",
     "evalue": "<_InactiveRpcError of RPC that terminated with:\n\tstatus = StatusCode.UNKNOWN\n\tdetails = \"Exception calling application: 'str' object cannot be interpreted as an integer\"\n\tdebug_error_string = \"UNKNOWN:Error received from peer  {grpc_message:\"Exception calling application: \\'str\\' object cannot be interpreted as an integer\", grpc_status:2, created_time:\"2023-07-19T03:32:28.0544384+00:00\"}\"\n>",
     "output_type": "error",
     "traceback": [
      "\u001b[1;31m---------------------------------------------------------------------------\u001b[0m",
      "\u001b[1;31m_InactiveRpcError\u001b[0m                         Traceback (most recent call last)",
      "Cell \u001b[1;32mIn[20], line 4\u001b[0m\n\u001b[0;32m      2\u001b[0m \u001b[39mwith\u001b[39;00m grpc\u001b[39m.\u001b[39minsecure_channel(\u001b[39mf\u001b[39m\u001b[39m'\u001b[39m\u001b[39mlocalhost:\u001b[39m\u001b[39m{\u001b[39;00mport\u001b[39m}\u001b[39;00m\u001b[39m'\u001b[39m) \u001b[39mas\u001b[39;00m channel:\n\u001b[0;32m      3\u001b[0m     stub \u001b[39m=\u001b[39m server_gui_pb2_grpc\u001b[39m.\u001b[39mServerGUIStub(channel)\n\u001b[1;32m----> 4\u001b[0m     response \u001b[39m=\u001b[39m stub\u001b[39m.\u001b[39mQuestionSuccess(server_gui_pb2\u001b[39m.\u001b[39mResponseSuccess(player\u001b[39m=\u001b[39m\u001b[39m3\u001b[39m,success\u001b[39m=\u001b[39m\u001b[39mTrue\u001b[39;00m))\n\u001b[0;32m      5\u001b[0m \u001b[39mprint\u001b[39m(\u001b[39mf\u001b[39m\u001b[39m\"\u001b[39m\u001b[39mPlayer\u001b[39m\u001b[39m{\u001b[39;00mresponse\u001b[39m.\u001b[39mplayer\u001b[39m}\u001b[39;00m\u001b[39m answered \u001b[39m\u001b[39m{\u001b[39;00mresponse\u001b[39m.\u001b[39mCategory\u001b[39m}\u001b[39;00m\u001b[39m correctly: \u001b[39m\u001b[39m{\u001b[39;00mresponse\u001b[39m.\u001b[39manswered\u001b[39m}\u001b[39;00m\u001b[39m\"\u001b[39m)\n",
      "File \u001b[1;32mc:\\Users\\ttimmerm\\Anaconda3\\envs\\tc\\Lib\\site-packages\\grpc\\_channel.py:1030\u001b[0m, in \u001b[0;36m_UnaryUnaryMultiCallable.__call__\u001b[1;34m(self, request, timeout, metadata, credentials, wait_for_ready, compression)\u001b[0m\n\u001b[0;32m   1021\u001b[0m \u001b[39mdef\u001b[39;00m \u001b[39m__call__\u001b[39m(\u001b[39mself\u001b[39m,\n\u001b[0;32m   1022\u001b[0m              request: Any,\n\u001b[0;32m   1023\u001b[0m              timeout: Optional[\u001b[39mfloat\u001b[39m] \u001b[39m=\u001b[39m \u001b[39mNone\u001b[39;00m,\n\u001b[1;32m   (...)\u001b[0m\n\u001b[0;32m   1026\u001b[0m              wait_for_ready: Optional[\u001b[39mbool\u001b[39m] \u001b[39m=\u001b[39m \u001b[39mNone\u001b[39;00m,\n\u001b[0;32m   1027\u001b[0m              compression: Optional[grpc\u001b[39m.\u001b[39mCompression] \u001b[39m=\u001b[39m \u001b[39mNone\u001b[39;00m) \u001b[39m-\u001b[39m\u001b[39m>\u001b[39m Any:\n\u001b[0;32m   1028\u001b[0m     state, call, \u001b[39m=\u001b[39m \u001b[39mself\u001b[39m\u001b[39m.\u001b[39m_blocking(request, timeout, metadata, credentials,\n\u001b[0;32m   1029\u001b[0m                                   wait_for_ready, compression)\n\u001b[1;32m-> 1030\u001b[0m     \u001b[39mreturn\u001b[39;00m _end_unary_response_blocking(state, call, \u001b[39mFalse\u001b[39;00m, \u001b[39mNone\u001b[39;00m)\n",
      "File \u001b[1;32mc:\\Users\\ttimmerm\\Anaconda3\\envs\\tc\\Lib\\site-packages\\grpc\\_channel.py:910\u001b[0m, in \u001b[0;36m_end_unary_response_blocking\u001b[1;34m(state, call, with_call, deadline)\u001b[0m\n\u001b[0;32m    908\u001b[0m         \u001b[39mreturn\u001b[39;00m state\u001b[39m.\u001b[39mresponse\n\u001b[0;32m    909\u001b[0m \u001b[39melse\u001b[39;00m:\n\u001b[1;32m--> 910\u001b[0m     \u001b[39mraise\u001b[39;00m _InactiveRpcError(state)\n",
      "\u001b[1;31m_InactiveRpcError\u001b[0m: <_InactiveRpcError of RPC that terminated with:\n\tstatus = StatusCode.UNKNOWN\n\tdetails = \"Exception calling application: 'str' object cannot be interpreted as an integer\"\n\tdebug_error_string = \"UNKNOWN:Error received from peer  {grpc_message:\"Exception calling application: \\'str\\' object cannot be interpreted as an integer\", grpc_status:2, created_time:\"2023-07-19T03:32:28.0544384+00:00\"}\"\n>"
     ]
    }
   ],
   "source": [
    "port = 50053\n",
    "with grpc.insecure_channel(f'localhost:{port}') as channel:\n",
    "    stub = server_gui_pb2_grpc.ServerGUIStub(channel)\n",
    "    response = stub.QuestionSuccess(server_gui_pb2.ResponseSuccess(player=3,success=True))\n",
    "print(f\"Player{response.player} answered {response.Category} correctly: {response.answered}\")"
   ]
  },
  {
   "cell_type": "code",
   "execution_count": null,
   "metadata": {},
   "outputs": [],
   "source": [
    "port = 50053\n",
    "with grpc.insecure_channel(f'localhost:{port}') as channel:\n",
    "    stub = server_gui_pb2_grpc.ServerGUIStub(channel)\n",
    "    response = stub.QuestionSuccess(server_gui_pb2.ResponseSuccess(player=3,success=True))\n",
    "print(f\"Player{response.player} answered {response.Category} correctly: {response.answered}\")"
   ]
  }
 ],
 "metadata": {
  "kernelspec": {
   "display_name": "base",
   "language": "python",
   "name": "python3"
  },
  "language_info": {
   "codemirror_mode": {
    "name": "ipython",
    "version": 3
   },
   "file_extension": ".py",
   "mimetype": "text/x-python",
   "name": "python",
   "nbconvert_exporter": "python",
   "pygments_lexer": "ipython3",
   "version": "3.11.4"
  },
  "orig_nbformat": 4
 },
 "nbformat": 4,
 "nbformat_minor": 2
}
