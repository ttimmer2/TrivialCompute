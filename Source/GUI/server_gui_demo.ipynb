{
 "cells": [
  {
   "cell_type": "code",
   "execution_count": null,
   "metadata": {},
   "outputs": [],
   "source": [
    "from __future__ import print_function\n",
    "from concurrent import futures\n",
    "\n",
    "\n",
    "import sys\n",
    "sys.path.append(\"..\")\n",
    "sys.path.append(\"../protos/\")\n",
    "\n",
    "import logging\n",
    "import random\n",
    "\n",
    "import grpc\n",
    "from protos import server_gui_pb2\n",
    "from protos import server_gui_pb2_grpc"
   ]
  },
  {
   "cell_type": "code",
   "execution_count": null,
   "metadata": {},
   "outputs": [],
   "source": [
    "port = 50053\n",
    "with grpc.insecure_channel(f'localhost:{port}') as channel:\n",
    "    stub = server_gui_pb2_grpc.ServerGUIStub(channel)\n",
    "    response = stub.RollDiceAndGetValidLandingSpots(server_gui_pb2.RollDiceMessage(Player=1, Location=11))\n",
    "print(f\"message: \" + response.ValidSpot)"
   ]
  },
  {
   "cell_type": "code",
   "execution_count": null,
   "metadata": {},
   "outputs": [],
   "source": [
    "port = 50053\n",
    "with grpc.insecure_channel(f'localhost:{port}') as channel:\n",
    "    stub = server_gui_pb2_grpc.ServerGUIStub(channel)\n",
    "    response = stub.HandleNewSpot(server_gui_pb2.NewSpotMessage(Player=1,Spot=12))\n",
    "print(f\"Player {response.Player} - response type {response.RT}\")"
   ]
  },
  {
   "cell_type": "code",
   "execution_count": null,
   "metadata": {},
   "outputs": [],
   "source": [
    "port = 50053\n",
    "with grpc.insecure_channel(f'localhost:{port}') as channel:\n",
    "    stub = server_gui_pb2_grpc.ServerGUIStub(channel)\n",
    "    response = stub.GetQuestion(server_gui_pb2.RequestQuestion(Player=3))\n",
    "print(f\"Question: {response.Question} from category: {response.CategoryType}\")"
   ]
  },
  {
   "cell_type": "code",
   "execution_count": null,
   "metadata": {},
   "outputs": [],
   "source": [
    "port = 50053\n",
    "with grpc.insecure_channel(f'localhost:{port}') as channel:\n",
    "    stub = server_gui_pb2_grpc.ServerGUIStub(channel)\n",
    "    response = stub.QuestionSuccess(server_gui_pb2.ResponseSuccess(player=3,success=True))\n",
    "print(f\"Player{response.player} answered {response.Category} correctly: {response.answered}\")"
   ]
  },
  {
   "cell_type": "code",
   "execution_count": null,
   "metadata": {},
   "outputs": [],
   "source": [
    "port = 50053\n",
    "with grpc.insecure_channel(f'localhost:{port}') as channel:\n",
    "    stub = server_gui_pb2_grpc.ServerGUIStub(channel)\n",
    "    response = stub.CreateCategory(server_gui_pb2.CategoryFromGUI(CategoryName = \"Writing\"))\n",
    "print(f\"Success: {response.Success}\\nMessage: {response.messageText}\")"
   ]
  },
  {
   "cell_type": "code",
   "execution_count": null,
   "metadata": {},
   "outputs": [],
   "source": [
    "port = 50053\n",
    "with grpc.insecure_channel(f'localhost:{port}') as channel:\n",
    "    stub = server_gui_pb2_grpc.ServerGUIStub(channel)\n",
    "    response = stub.CreateNewQuestion(server_gui_pb2.QuestionGS(CategoryType = \"Writing\", Question = \"Provide an example of the subjunctive mood in Cicero's 5th Catiline Oration.\"))\n",
    "print(f\"Success: {response.Success}\\nMessage: {response.messageText}\")"
   ]
  }
 ],
 "metadata": {
  "kernelspec": {
   "display_name": "base",
   "language": "python",
   "name": "python3"
  },
  "language_info": {
   "codemirror_mode": {
    "name": "ipython",
    "version": 3
   },
   "file_extension": ".py",
   "mimetype": "text/x-python",
   "name": "python",
   "nbconvert_exporter": "python",
   "pygments_lexer": "ipython3",
   "version": "3.11.4"
  },
  "orig_nbformat": 4
 },
 "nbformat": 4,
 "nbformat_minor": 2
}
