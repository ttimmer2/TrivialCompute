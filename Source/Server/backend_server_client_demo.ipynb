{
 "cells": [
  {
   "cell_type": "code",
   "execution_count": 1,
   "metadata": {},
   "outputs": [],
   "source": [
    "from __future__ import print_function\n",
    "from concurrent import futures\n",
    "\n",
    "\n",
    "import sys\n",
    "sys.path.append(\"..\")\n",
    "sys.path.append(\"../protos/\")\n",
    "\n",
    "import logging\n",
    "import random\n",
    "\n",
    "import grpc\n",
    "from protos import backend_server_pb2_grpc\n",
    "from protos import backend_server_pb2"
   ]
  },
  {
   "cell_type": "code",
   "execution_count": 2,
   "metadata": {},
   "outputs": [
    {
     "name": "stdout",
     "output_type": "stream",
     "text": [
      "Response success: True\n",
      "message: Successfully created category Underwater Basketweaving\n"
     ]
    }
   ],
   "source": [
    "port = 50052\n",
    "with grpc.insecure_channel(f'localhost:{port}') as channel:\n",
    "    stub = backend_server_pb2_grpc.BackendServerStub(channel)\n",
    "    response = stub.CreateCategory(backend_server_pb2.Category(Category='Underwater Basketweaving'))\n",
    "print(f\"Response success: {response.Success}\\nmessage: \" + response.MessageText)\n"
   ]
  },
  {
   "cell_type": "code",
   "execution_count": 3,
   "metadata": {},
   "outputs": [
    {
     "name": "stdout",
     "output_type": "stream",
     "text": [
      "Question category: Coatings and Polymeric Materials\n",
      "Question: Describe the category `Coatings and Polymeric Materials` in four words.\n"
     ]
    }
   ],
   "source": [
    "port = 50052\n",
    "with grpc.insecure_channel(f'localhost:{port}') as channel:\n",
    "    stub = backend_server_pb2_grpc.BackendServerStub(channel)\n",
    "    response = stub.GetQuestion(backend_server_pb2.QuestionRequest(Category='Coatings and Polymeric Materials'))\n",
    "print(f\"Question category: {response.Category}\\nQuestion: {response.QuestionText}\")"
   ]
  },
  {
   "cell_type": "code",
   "execution_count": 4,
   "metadata": {},
   "outputs": [
    {
     "ename": "_InactiveRpcError",
     "evalue": "<_InactiveRpcError of RPC that terminated with:\n\tstatus = StatusCode.UNKNOWN\n\tdetails = \"Exception calling application: Question\"\n\tdebug_error_string = \"UNKNOWN:Error received from peer  {created_time:\"2023-07-18T21:46:09.016564195+00:00\", grpc_status:2, grpc_message:\"Exception calling application: Question\"}\"\n>",
     "output_type": "error",
     "traceback": [
      "\u001b[1;31m---------------------------------------------------------------------------\u001b[0m",
      "\u001b[1;31m_InactiveRpcError\u001b[0m                         Traceback (most recent call last)",
      "\u001b[1;32m~\\AppData\\Local\\Temp\\ipykernel_23880\\1699163427.py\u001b[0m in \u001b[0;36m<module>\u001b[1;34m\u001b[0m\n\u001b[0;32m      4\u001b[0m     \u001b[0mc\u001b[0m \u001b[1;33m=\u001b[0m \u001b[1;34m\"games\"\u001b[0m\u001b[1;33m\u001b[0m\u001b[1;33m\u001b[0m\u001b[0m\n\u001b[0;32m      5\u001b[0m     \u001b[0mqt\u001b[0m \u001b[1;33m=\u001b[0m \u001b[1;34m\"How many sides are on a six-side dice?\"\u001b[0m\u001b[1;33m\u001b[0m\u001b[1;33m\u001b[0m\u001b[0m\n\u001b[1;32m----> 6\u001b[1;33m     \u001b[0mresponse\u001b[0m \u001b[1;33m=\u001b[0m \u001b[0mstub\u001b[0m\u001b[1;33m.\u001b[0m\u001b[0mEnterQuestion\u001b[0m\u001b[1;33m(\u001b[0m\u001b[0mbackend_server_pb2\u001b[0m\u001b[1;33m.\u001b[0m\u001b[0mQuestionSubmission\u001b[0m\u001b[1;33m(\u001b[0m\u001b[0mCategory\u001b[0m\u001b[1;33m=\u001b[0m\u001b[1;34m\"games\"\u001b[0m\u001b[1;33m,\u001b[0m \u001b[0mQuestionText\u001b[0m\u001b[1;33m=\u001b[0m\u001b[0mqt\u001b[0m\u001b[1;33m)\u001b[0m\u001b[1;33m)\u001b[0m\u001b[1;33m\u001b[0m\u001b[1;33m\u001b[0m\u001b[0m\n\u001b[0m\u001b[0;32m      7\u001b[0m \u001b[0mprint\u001b[0m\u001b[1;33m(\u001b[0m\u001b[1;34mf\"Response success: {response.Success}\\nmessage:{ response.MessageText}\"\u001b[0m\u001b[1;33m)\u001b[0m\u001b[1;33m\u001b[0m\u001b[1;33m\u001b[0m\u001b[0m\n",
      "\u001b[1;32mc:\\Users\\ttimmerm\\Anaconda3\\lib\\site-packages\\grpc\\_channel.py\u001b[0m in \u001b[0;36m__call__\u001b[1;34m(self, request, timeout, metadata, credentials, wait_for_ready, compression)\u001b[0m\n\u001b[0;32m   1028\u001b[0m         state, call, = self._blocking(request, timeout, metadata, credentials,\n\u001b[0;32m   1029\u001b[0m                                       wait_for_ready, compression)\n\u001b[1;32m-> 1030\u001b[1;33m         \u001b[1;32mreturn\u001b[0m \u001b[0m_end_unary_response_blocking\u001b[0m\u001b[1;33m(\u001b[0m\u001b[0mstate\u001b[0m\u001b[1;33m,\u001b[0m \u001b[0mcall\u001b[0m\u001b[1;33m,\u001b[0m \u001b[1;32mFalse\u001b[0m\u001b[1;33m,\u001b[0m \u001b[1;32mNone\u001b[0m\u001b[1;33m)\u001b[0m\u001b[1;33m\u001b[0m\u001b[1;33m\u001b[0m\u001b[0m\n\u001b[0m\u001b[0;32m   1031\u001b[0m \u001b[1;33m\u001b[0m\u001b[0m\n\u001b[0;32m   1032\u001b[0m     def with_call(\n",
      "\u001b[1;32mc:\\Users\\ttimmerm\\Anaconda3\\lib\\site-packages\\grpc\\_channel.py\u001b[0m in \u001b[0;36m_end_unary_response_blocking\u001b[1;34m(state, call, with_call, deadline)\u001b[0m\n\u001b[0;32m    908\u001b[0m             \u001b[1;32mreturn\u001b[0m \u001b[0mstate\u001b[0m\u001b[1;33m.\u001b[0m\u001b[0mresponse\u001b[0m\u001b[1;33m\u001b[0m\u001b[1;33m\u001b[0m\u001b[0m\n\u001b[0;32m    909\u001b[0m     \u001b[1;32melse\u001b[0m\u001b[1;33m:\u001b[0m\u001b[1;33m\u001b[0m\u001b[1;33m\u001b[0m\u001b[0m\n\u001b[1;32m--> 910\u001b[1;33m         \u001b[1;32mraise\u001b[0m \u001b[0m_InactiveRpcError\u001b[0m\u001b[1;33m(\u001b[0m\u001b[0mstate\u001b[0m\u001b[1;33m)\u001b[0m  \u001b[1;31m# pytype: disable=not-instantiable\u001b[0m\u001b[1;33m\u001b[0m\u001b[1;33m\u001b[0m\u001b[0m\n\u001b[0m\u001b[0;32m    911\u001b[0m \u001b[1;33m\u001b[0m\u001b[0m\n\u001b[0;32m    912\u001b[0m \u001b[1;33m\u001b[0m\u001b[0m\n",
      "\u001b[1;31m_InactiveRpcError\u001b[0m: <_InactiveRpcError of RPC that terminated with:\n\tstatus = StatusCode.UNKNOWN\n\tdetails = \"Exception calling application: Question\"\n\tdebug_error_string = \"UNKNOWN:Error received from peer  {created_time:\"2023-07-18T21:46:09.016564195+00:00\", grpc_status:2, grpc_message:\"Exception calling application: Question\"}\"\n>"
     ]
    }
   ],
   "source": [
    "port = 50052\n",
    "with grpc.insecure_channel(f'localhost:{port}') as channel:\n",
    "    stub = backend_server_pb2_grpc.BackendServerStub(channel)\n",
    "    c = \"games\"\n",
    "    qt = \"How many sides are on a six-side dice?\"\n",
    "    response = stub.EnterQuestion(backend_server_pb2.QuestionSubmission(Category=\"games\", QuestionText=qt))\n",
    "print(f\"Response success: {response.Success}\\nmessage:{ response.MessageText}\")"
   ]
  }
 ],
 "metadata": {
  "kernelspec": {
   "display_name": "base",
   "language": "python",
   "name": "python3"
  },
  "language_info": {
   "codemirror_mode": {
    "name": "ipython",
    "version": 3
   },
   "file_extension": ".py",
   "mimetype": "text/x-python",
   "name": "python",
   "nbconvert_exporter": "python",
   "pygments_lexer": "ipython3",
   "version": "3.9.13"
  },
  "orig_nbformat": 4
 },
 "nbformat": 4,
 "nbformat_minor": 2
}
