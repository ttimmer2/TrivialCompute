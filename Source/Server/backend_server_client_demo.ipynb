{
 "cells": [
  {
   "cell_type": "code",
   "execution_count": null,
   "metadata": {},
   "outputs": [],
   "source": [
    "from __future__ import print_function\n",
    "from concurrent import futures\n",
    "\n",
    "\n",
    "import sys\n",
    "sys.path.append(\"..\")\n",
    "sys.path.append(\"../protos/\")\n",
    "\n",
    "import grpc\n",
    "from protos import backend_server_pb2_grpc\n",
    "from protos import backend_server_pb2"
   ]
  },
  {
   "cell_type": "code",
   "execution_count": null,
   "metadata": {},
   "outputs": [],
   "source": [
    "port = 50052\n",
    "with grpc.insecure_channel(f'localhost:{port}') as channel:\n",
    "    stub = backend_server_pb2_grpc.BackendServerStub(channel)\n",
    "    response = stub.CreateCategory(backend_server_pb2.Category(Category='Philology'))\n",
    "print(f\"Response success: {response.Success}\\nmessage: \" + response.MessageText)\n"
   ]
  },
  {
   "cell_type": "code",
   "execution_count": null,
   "metadata": {},
   "outputs": [],
   "source": [
    "port = 50052\n",
    "with grpc.insecure_channel(f'localhost:{port}') as channel:\n",
    "    stub = backend_server_pb2_grpc.BackendServerStub(channel)\n",
    "    response = stub.GetQuestion(backend_server_pb2.QuestionRequest(Category='Coatings and Polymeric Materials'))\n",
    "print(f\"Question category: {response.Category}\\nQuestion: {response.QuestionText}\")"
   ]
  },
  {
   "cell_type": "code",
   "execution_count": null,
   "metadata": {},
   "outputs": [],
   "source": [
    "port = 50052\n",
    "with grpc.insecure_channel(f'localhost:{port}') as channel:\n",
    "    stub = backend_server_pb2_grpc.BackendServerStub(channel)\n",
    "    c = \"games\"\n",
    "    qt = \"How many sides are on a twenty-side dice?\"\n",
    "    response = stub.EnterQuestion(backend_server_pb2.QuestionSubmission(Category=\"Games\", QuestionText=\"What is a question about a game?\"))\n",
    "print(f\"Response success: {response.Success}\\nmessage:{ response.MessageText}\")"
   ]
  }
 ],
 "metadata": {
  "kernelspec": {
   "display_name": "base",
   "language": "python",
   "name": "python3"
  },
  "language_info": {
   "codemirror_mode": {
    "name": "ipython",
    "version": 3
   },
   "file_extension": ".py",
   "mimetype": "text/x-python",
   "name": "python",
   "nbconvert_exporter": "python",
   "pygments_lexer": "ipython3",
   "version": "3.11.4"
  },
  "orig_nbformat": 4
 },
 "nbformat": 4,
 "nbformat_minor": 2
}
