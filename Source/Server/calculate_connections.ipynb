{
 "cells": [
  {
   "cell_type": "code",
   "execution_count": 1,
   "metadata": {},
   "outputs": [],
   "source": [
    "POSITIONS = [\n",
    "    (0,0), (1,0), (2,0), (3,0), (4,0), (5,0), (6,0), (7,0), (8,0),\n",
    "    (0,1),                      (4,1),                      (8,1),\n",
    "    (0,2),                      (4,2),                      (8,2),\n",
    "    (0,3),                      (4,3),                      (8,3),\n",
    "    (0,4), (1,4), (2,4), (3,4), (4,4), (5,4), (6,4), (7,4), (8,4),\n",
    "    (0,5),                      (4,5),                      (8,5),\n",
    "    (0,6),                      (4,6),                      (8,6),\n",
    "    (0,7),                      (4,7),                      (8,7),\n",
    "    (0,8), (1,8), (2,8), (3,8), (4,8), (5,8), (6,8), (7,8), (8,8)\n",
    "]"
   ]
  },
  {
   "cell_type": "code",
   "execution_count": 12,
   "metadata": {},
   "outputs": [
    {
     "data": {
      "text/plain": [
       "0"
      ]
     },
     "execution_count": 12,
     "metadata": {},
     "output_type": "execute_result"
    }
   ],
   "source": [
    "POSITIONS.index((0,0))"
   ]
  },
  {
   "cell_type": "code",
   "execution_count": 31,
   "metadata": {},
   "outputs": [],
   "source": [
    "d = {}\n",
    "for i, p in enumerate(POSITIONS):\n",
    "    d[i] = []\n"
   ]
  },
  {
   "cell_type": "code",
   "execution_count": 48,
   "metadata": {},
   "outputs": [],
   "source": [
    "for i, p in enumerate(POSITIONS):\n",
    "    x = p[0]\n",
    "    y = p[1]\n",
    "    l = []\n",
    "    test_x = x-1\n",
    "    if (test_x %4 == 0 or y%4 == 0) and ((test_x,y) in POSITIONS):\n",
    "        if POSITIONS.index((test_x,y)) not in d[i]:\n",
    "            d[i].append(POSITIONS.index((test_x,y)))\n",
    "        if i not in d[POSITIONS.index((test_x,y))]:\n",
    "            d[POSITIONS.index((test_x,y))].append(i)\n",
    "    test_x = x+1\n",
    "    if (test_x %4 == 0 or y%4 == 0) and ((test_x,y) in POSITIONS):\n",
    "        if POSITIONS.index((test_x,y)) not in d[i]:\n",
    "            d[i].append(POSITIONS.index((test_x,y)))\n",
    "        if i not in d[POSITIONS.index((test_x,y))]:\n",
    "            d[POSITIONS.index((test_x,y))].append(i)\n",
    "    test_y = y-1\n",
    "    if (x %4 == 0 or test_y%4 == 0) and ((x,test_y) in POSITIONS):\n",
    "        if POSITIONS.index((x,test_y)) not in d[i]:\n",
    "            d[i].append(POSITIONS.index((x,test_y)))\n",
    "        if i not in d[POSITIONS.index((x,test_y))]:\n",
    "            d[POSITIONS.index((x,test_y))].append(i)\n",
    "    test_y = y+1\n",
    "    if (x %4 == 0 or test_y%4 == 0) and ((x,test_y) in POSITIONS):\n",
    "        if POSITIONS.index((x,test_y)) not in d[i]:\n",
    "            d[i].append(POSITIONS.index((x,test_y)))\n",
    "        if i not in d[POSITIONS.index((x,test_y))]:\n",
    "            d[POSITIONS.index((x,test_y))].append(i)"
   ]
  },
  {
   "cell_type": "code",
   "execution_count": 49,
   "metadata": {},
   "outputs": [
    {
     "data": {
      "text/plain": [
       "{0: [1, 9],\n",
       " 1: [0, 2],\n",
       " 2: [1, 3],\n",
       " 3: [4, 2],\n",
       " 4: [3, 5, 10],\n",
       " 5: [4, 6],\n",
       " 6: [5, 7],\n",
       " 7: [8, 6],\n",
       " 8: [7, 11],\n",
       " 9: [0, 12],\n",
       " 10: [4, 13],\n",
       " 11: [8, 14],\n",
       " 12: [9, 15],\n",
       " 13: [10, 16],\n",
       " 14: [11, 17],\n",
       " 15: [18, 12],\n",
       " 16: [22, 13],\n",
       " 17: [26, 14],\n",
       " 18: [15, 19, 27],\n",
       " 19: [18, 20],\n",
       " 20: [19, 21],\n",
       " 21: [22, 20],\n",
       " 22: [16, 21, 23, 28],\n",
       " 23: [22, 24],\n",
       " 24: [23, 25],\n",
       " 25: [26, 24],\n",
       " 26: [17, 25, 29],\n",
       " 27: [18, 30],\n",
       " 28: [22, 31],\n",
       " 29: [26, 32],\n",
       " 30: [27, 33],\n",
       " 31: [28, 34],\n",
       " 32: [29, 35],\n",
       " 33: [36, 30],\n",
       " 34: [40, 31],\n",
       " 35: [44, 32],\n",
       " 36: [33, 37],\n",
       " 37: [36, 38],\n",
       " 38: [37, 39],\n",
       " 39: [40, 38],\n",
       " 40: [34, 39, 41],\n",
       " 41: [40, 42],\n",
       " 42: [41, 43],\n",
       " 43: [44, 42],\n",
       " 44: [35, 43]}"
      ]
     },
     "execution_count": 49,
     "metadata": {},
     "output_type": "execute_result"
    }
   ],
   "source": [
    "d"
   ]
  },
  {
   "cell_type": "code",
   "execution_count": 15,
   "metadata": {},
   "outputs": [
    {
     "name": "stdout",
     "output_type": "stream",
     "text": [
      "0\n",
      "1\n",
      "2\n",
      "3\n",
      "4\n",
      "5\n",
      "6\n",
      "7\n",
      "8\n",
      "9\n",
      "10\n",
      "11\n",
      "12\n",
      "13\n",
      "14\n",
      "15\n",
      "16\n",
      "17\n",
      "18\n",
      "19\n",
      "20\n",
      "21\n",
      "22\n",
      "23\n",
      "24\n",
      "25\n",
      "26\n",
      "27\n",
      "28\n",
      "29\n",
      "30\n",
      "31\n",
      "32\n",
      "33\n",
      "34\n",
      "35\n",
      "36\n",
      "37\n",
      "38\n",
      "39\n",
      "40\n",
      "41\n",
      "42\n",
      "43\n",
      "44\n"
     ]
    }
   ],
   "source": [
    "for i, p in enumerate(POSITIONS):\n",
    "    print(i)"
   ]
  },
  {
   "cell_type": "code",
   "execution_count": null,
   "metadata": {},
   "outputs": [],
   "source": [
    "INTERSECTIONS = [4, 18, 22, 26, 40 ]"
   ]
  }
 ],
 "metadata": {
  "kernelspec": {
   "display_name": "tc",
   "language": "python",
   "name": "python3"
  },
  "language_info": {
   "codemirror_mode": {
    "name": "ipython",
    "version": 3
   },
   "file_extension": ".py",
   "mimetype": "text/x-python",
   "name": "python",
   "nbconvert_exporter": "python",
   "pygments_lexer": "ipython3",
   "version": "3.11.4"
  },
  "orig_nbformat": 4
 },
 "nbformat": 4,
 "nbformat_minor": 2
}
